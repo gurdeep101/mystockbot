{
 "cells": [
  {
   "cell_type": "markdown",
   "metadata": {},
   "source": [
    "https://www.llamaindex.ai/blog/building-and-evaluating-a-qa-system-with-llamaindex-3f02e9d87ce1\n",
    "\n",
    "1. Question Generation"
   ]
  },
  {
   "cell_type": "code",
   "execution_count": 5,
   "metadata": {},
   "outputs": [],
   "source": [
    "import os\n",
    "\n",
    "import nest_asyncio\n",
    "nest_asyncio.apply()\n",
    "\n",
    "from llama_parse import LlamaParse\n",
    "from llama_index.core import SimpleDirectoryReader\n",
    "\n",
    "from llama_index.core.evaluation import DatasetGenerator"
   ]
  },
  {
   "cell_type": "code",
   "execution_count": 2,
   "metadata": {},
   "outputs": [
    {
     "name": "stdout",
     "output_type": "stream",
     "text": [
      "API key found\n"
     ]
    }
   ],
   "source": [
    "LLAMAPARSE_API_KEY = os.environ.get('LLAMAPARSE_API_KEY')\n",
    "if LLAMAPARSE_API_KEY is not None:\n",
    "    print('API key found')\n",
    "else:\n",
    "    print('Check for API key in environment variable')"
   ]
  },
  {
   "cell_type": "code",
   "execution_count": 3,
   "metadata": {},
   "outputs": [],
   "source": [
    "# instantiate parser\n",
    "parser = LlamaParse(\n",
    "    api_key=LLAMAPARSE_API_KEY,\n",
    "    result_type=\"markdown\", # or text\n",
    "    # num_workers=4 # for multiple files\n",
    "    verbose=True,\n",
    "    language=\"en\", # default is english\n",
    ")"
   ]
  },
  {
   "cell_type": "code",
   "execution_count": 4,
   "metadata": {},
   "outputs": [
    {
     "name": "stdout",
     "output_type": "stream",
     "text": [
      "Started parsing the file under job_id caff5e8d-4ba4-4bb8-a53d-27f4504c1f1c\n"
     ]
    }
   ],
   "source": [
    "# load document and parse it \n",
    "documents = parser.load_data('../data/axis-press-release-q3fy24.pdf')"
   ]
  },
  {
   "cell_type": "markdown",
   "metadata": {},
   "source": [
    "#### Generate Questions"
   ]
  },
  {
   "cell_type": "code",
   "execution_count": 5,
   "metadata": {},
   "outputs": [
    {
     "name": "stderr",
     "output_type": "stream",
     "text": [
      "/Users/gurdeep/miniconda3/envs/llamaparse/lib/python3.12/site-packages/llama_index/core/evaluation/dataset_generation.py:212: DeprecationWarning: Call to deprecated class DatasetGenerator. (Deprecated in favor of `RagDatasetGenerator` which should be used instead.)\n",
      "  return cls(\n",
      "/Users/gurdeep/miniconda3/envs/llamaparse/lib/python3.12/site-packages/llama_index/core/evaluation/dataset_generation.py:309: DeprecationWarning: Call to deprecated class QueryResponseDataset. (Deprecated in favor of `LabelledRagDataset` which should be used instead.)\n",
      "  return QueryResponseDataset(queries=queries, responses=responses_dict)\n"
     ]
    }
   ],
   "source": [
    "data_generator = DatasetGenerator.from_documents(documents)\n",
    "questions = data_generator.generate_questions_from_nodes()"
   ]
  },
  {
   "cell_type": "code",
   "execution_count": 6,
   "metadata": {},
   "outputs": [
    {
     "data": {
      "text/plain": [
       "[\"What was Axis Bank's operating profit for the quarter ended 31st December 2023?\",\n",
       " \"How much did Axis Bank's PAT increase by quarter-on-quarter for Q3FY24?\",\n",
       " 'What was the consolidated ROE for Axis Bank for the nine months ended 31st December 2023?',\n",
       " 'How much did the fee income grow year-on-year for Axis Bank?',\n",
       " 'What was the growth percentage of retail loans for Axis Bank on a year-on-year basis?',\n",
       " 'What was the GNPA% for Axis Bank in Q3FY24 and how did it change year-on-year?',\n",
       " 'How many credit cards were issued by Axis Bank in Q3FY24?',\n",
       " 'What is the market share of Axis Bank in the CIF market for credit cards?',\n",
       " 'What new digital banking solution did Axis Bank launch in the quarter?',\n",
       " 'What awards did Axis Bank win during the quarter, according to the press release?',\n",
       " \"What was the focus of Axis Bank's 'Sparsh Week' initiative mentioned in the context information?\",\n",
       " \"How did Axis Bank celebrate 'Sparsh Week' and what was the reach of this initiative?\",\n",
       " 'What was the Net Interest Margin of Axis Bank mentioned in the performance summary?',\n",
       " 'How much did the Core Operating revenues grow year-on-year according to the performance summary?',\n",
       " 'What was the growth percentage of Retail term deposits on a QAB basis as per the performance summary?',\n",
       " 'What was the CASA ratio of Axis Bank mentioned in the performance summary?',\n",
       " 'What was the overall Capital Adequacy Ratio (CAR) of Axis Bank including profit as per the performance summary?',\n",
       " 'How many non-Axis Bank customers do Axis Mobile & Axis Pay have according to the performance summary?',\n",
       " 'What was the Net slippage ratio mentioned in the performance summary and how did it change year-on-year and quarter-on-quarter?',\n",
       " \"How much did Axis Finance's PAT grow year-on-year in 9MFY24 according to the performance summary?\",\n",
       " 'What was the operating profit and net profit of Axis Bank for the quarter ended 31st December 2023?',\n",
       " 'How much did the Net Interest Income (NII) grow year-on-year for Axis Bank in Q3FY24?',\n",
       " 'What was the Net Interest Margin (NIM) for Axis Bank in Q3FY24?',\n",
       " 'How much did the fee income grow year-on-year for Axis Bank in Q3FY24?',\n",
       " \"What percentage of the Bank's total fee income was constituted by retail fees in Q3FY24?\",\n",
       " 'How much did the trading income gain for Axis Bank stand at in Q3FY24?',\n",
       " 'What were the provisions and contingencies for Axis Bank in Q3FY24?',\n",
       " 'How much did the Bank hold in cumulative provisions at the end of Q3FY24?',\n",
       " 'What was the standard asset coverage for Axis Bank as on 31st December 2023?',\n",
       " 'What is the provision coverage ratio for Axis Bank as of 31st December 2023?',\n",
       " 'What was the specific loan loss provision for Q3FY24 for AXIS BANK?',\n",
       " 'How much did the Bank make in full provision on its AIF investments during the quarter?',\n",
       " 'What is the total cumulative provision held by the Bank at the end of Q3FY24?',\n",
       " 'What is the standard asset coverage percentage as on 31st December, 2023 for AXIS BANK?',\n",
       " 'What is the provision coverage ratio for AXIS BANK as on 31st December, 2023?',\n",
       " 'How much did the Net Interest Income grow for AXIS BANK in 9MFY24 compared to the previous year?',\n",
       " 'What was the total fee income for AXIS BANK in 9MFY24?',\n",
       " \"How much did the Bank's total deposits grow by on a YOY basis as of 31st December, 2023?\",\n",
       " \"What percentage of the Bank's total deposits were retail term deposits as of 31st December, 2023?\",\n",
       " \"What was the growth percentage of the Bank's advances in 9MFY24 compared to the previous year?\",\n",
       " 'What was the growth percentage of the SME book in terms of year-on-year and quarter-on-quarter as mentioned in the context information?',\n",
       " \"How much was the book value of the Bank's Investments portfolio as on 31st December 2023, and what were the major categories of investments?\",\n",
       " 'What percentage of the corporate book is now rated A- and above, and what percentage of incremental sanctions in 9MFY24 were to corporates rated A- and above?',\n",
       " 'How many new credit cards did the Bank issue in Q3FY24, and what is its standing in the Retail Digital banking space?',\n",
       " \"What percentage of digital transactions made by individual customers contributed to the Bank's total financial transactions in Q3FY24?\",\n",
       " \"What is the current rating of Axis Mobile, the Bank's mobile banking app, on the Google Play store, and how many reviews does it have?\",\n",
       " 'How many partnerships does the Bank have across platforms and ecosystems, and how many APIs are hosted on its API Developer Portal?',\n",
       " \"What is the total assets under management (AUM) of the Bank's wealth management business as of the end of 31st December 2023, and how much did it grow year-on-year and quarter-on-quarter?\",\n",
       " \"What is the current shareholders' funds of the Bank, and what was the organic net capital accretion through profits to CET-1 for 9MFY24?\",\n",
       " 'What is the Capital Adequacy Ratio (CAR) and CET1 ratio of the Bank as of 31st December 2023, and how much COVID provisions does the Bank hold, not considered for CAR calculation?',\n",
       " \"What was the growth percentage of the shareholders' funds of the Bank year-on-year as of 31st December 2023?\",\n",
       " 'How much was the negative impact of regulatory changes on the CET-1 ratio during the quarter?',\n",
       " 'What was the Book value per equity share as of 31st December, 2023?',\n",
       " 'How many branches did the Bank add during the quarter, and what was the total distribution network of branches and extension counters as of 31st December, 2023?',\n",
       " 'What were the reported Gross NPA and Net NPA levels of the Bank as of 31st December, 2023?',\n",
       " 'How much were the recoveries from written off accounts for the quarter, and what were the reported net slippages adjusted for recoveries?',\n",
       " 'What were the gross slippages during the quarter, and how much did the Bank write off NPAs in the same period?',\n",
       " 'What was the provision coverage ratio of the Bank as a proportion of Gross NPAs as of 31st December, 2023?',\n",
       " 'How much was the PAT of Axis Finance for 9MFY24, and what percentage of total loans did the retail book constitute?',\n",
       " 'What was the overall QAAUM growth of Axis AMC year-on-year, and what was its PAT for 9MFY24?',\n",
       " 'What is the total Capital Adequacy Ratio of Axis Finance as of the current financial year?',\n",
       " \"How much was Axis Finance's PAT in 9MFY24 and what was the percentage increase compared to 9MFY23?\",\n",
       " 'What was the overall QAAUM growth for Axis AMC in the current financial year?',\n",
       " 'How many investment banking transactions did Axis Capital complete in 9MFY24?',\n",
       " 'What was the percentage growth in broking revenues for Axis Securities in 9MFY24?',\n",
       " 'What was the net interest income for Axis Bank in Q3FY24 and what was the percentage growth compared to Q3FY23?',\n",
       " 'What was the operating profit for Axis Bank in Q3FY24 and how did it change compared to Q3FY23?',\n",
       " \"What was the total deposits for Axis Bank as of 31st December'23?\",\n",
       " \"What was the total investments for Axis Bank as of 31st December'23?\",\n",
       " 'Calculate the Return on Equity (annualized) for Axis Bank in the current financial year.',\n",
       " 'What was the percentage increase in Total Deposits for Axis Bank from December 2022 to December 2023?',\n",
       " 'How much were the CASA Deposits as a percentage of Total Deposits for Axis Bank as of December 2023?',\n",
       " 'What was the percentage increase in Retail Term Deposits for Axis Bank from December 2022 to December 2023?',\n",
       " 'What was the Net Advances amount for Axis Bank as of December 2023?',\n",
       " 'What was the percentage increase in Net Advances for Axis Bank from December 2022 to December 2023?',\n",
       " 'What was the Gross NPA as a percentage of Gross Customer Assets for Axis Bank as of December 2023?',\n",
       " 'What was the Equity Capital for Axis Bank as of December 2023?',\n",
       " 'What was the Capital Adequacy Ratio (Basel III) for Axis Bank as of December 2023?',\n",
       " 'What was the Tier I Capital Adequacy Ratio (Basel III) for Axis Bank as of December 2023?',\n",
       " 'What risks and uncertainties are mentioned in the Safe Harbor statement provided by Axis Bank?']"
      ]
     },
     "execution_count": 6,
     "metadata": {},
     "output_type": "execute_result"
    }
   ],
   "source": [
    "questions"
   ]
  },
  {
   "cell_type": "markdown",
   "metadata": {},
   "source": [
    "#### Generate Answers from source nodes (Context)"
   ]
  },
  {
   "cell_type": "code",
   "execution_count": 6,
   "metadata": {},
   "outputs": [],
   "source": [
    "from llama_index.core import VectorStoreIndex, load_index_from_storage, StorageContext"
   ]
  },
  {
   "cell_type": "code",
   "execution_count": 9,
   "metadata": {},
   "outputs": [],
   "source": [
    "# build index\n",
    "index = VectorStoreIndex.from_documents(documents)\n",
    "\n",
    "# save to disk\n",
    "index.set_index_id(\"axis_pr_vector_index\")\n",
    "index.storage_context.persist('../data/storage')"
   ]
  },
  {
   "cell_type": "code",
   "execution_count": 7,
   "metadata": {},
   "outputs": [],
   "source": [
    "# rebuild storage\n",
    "storage_context = StorageContext.from_defaults(persist_dir='../data/storage')\n",
    "# load index\n",
    "index = load_index_from_storage(storage_context, index_id=\"axis_pr_vector_index\")"
   ]
  },
  {
   "cell_type": "code",
   "execution_count": 8,
   "metadata": {},
   "outputs": [],
   "source": [
    "# generate query engine\n",
    "query_engine = index.as_query_engine(similarity_top_k=3)"
   ]
  },
  {
   "cell_type": "markdown",
   "metadata": {},
   "source": [
    "#### Evaluate answers\n",
    "\n",
    "Evaluation answers 3 questions\n",
    "* Response and source nodes match - Response + Source Nodes (Context) - Hallucination\n",
    "* Response, source nodes (context) and query match? - query + response + source nodes (context)\n",
    "* Which of the retrieved source nodes used to generate a response? - query + response + individual source nodes (context)\n",
    "\n",
    "##### 1. Response and source nodes match - Response + Source Nodes (Context) - Hallucination\n",
    "\n",
    "* response object for a query returns both source nodes and response\n",
    "* we evaluate here without taking into account query\n",
    "* Checks for model hallucination"
   ]
  },
  {
   "cell_type": "code",
   "execution_count": 9,
   "metadata": {},
   "outputs": [],
   "source": [
    "from llama_index.llms.openai import OpenAI\n",
    "from llama_index.core.evaluation import FaithfulnessEvaluator"
   ]
  },
  {
   "cell_type": "code",
   "execution_count": 10,
   "metadata": {},
   "outputs": [],
   "source": [
    "# set llm and load evaluator\n",
    "llm = OpenAI(model=\"gpt-4\", temperature=0.0)\n",
    "evaluator = FaithfulnessEvaluator(llm=llm)"
   ]
  },
  {
   "cell_type": "code",
   "execution_count": 12,
   "metadata": {},
   "outputs": [
    {
     "name": "stdout",
     "output_type": "stream",
     "text": [
      "True\n"
     ]
    }
   ],
   "source": [
    "response = query_engine.query(\"What was Axis Bank's operating profit for the quarter ended 31st December 2023?\")\n",
    "eval_result = evaluator.evaluate_response(response=response)\n",
    "# print(eval_result)\n",
    "print(str(eval_result.passing))"
   ]
  },
  {
   "cell_type": "markdown",
   "metadata": {},
   "source": [
    "2. Retrieval Evaluation"
   ]
  },
  {
   "cell_type": "code",
   "execution_count": null,
   "metadata": {},
   "outputs": [],
   "source": []
  }
 ],
 "metadata": {
  "kernelspec": {
   "display_name": "llamaparse",
   "language": "python",
   "name": "python3"
  },
  "language_info": {
   "codemirror_mode": {
    "name": "ipython",
    "version": 3
   },
   "file_extension": ".py",
   "mimetype": "text/x-python",
   "name": "python",
   "nbconvert_exporter": "python",
   "pygments_lexer": "ipython3",
   "version": "3.12.2"
  }
 },
 "nbformat": 4,
 "nbformat_minor": 2
}
