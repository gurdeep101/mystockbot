{
 "cells": [
  {
   "cell_type": "markdown",
   "metadata": {},
   "source": [
    "https://www.llamaindex.ai/blog/building-and-evaluating-a-qa-system-with-llamaindex-3f02e9d87ce1\n",
    "\n",
    "1. Question Generation"
   ]
  },
  {
   "cell_type": "code",
   "execution_count": 25,
   "metadata": {},
   "outputs": [],
   "source": [
    "import os\n",
    "\n",
    "import nest_asyncio\n",
    "nest_asyncio.apply()\n",
    "\n",
    "from llama_parse import LlamaParse\n",
    "from llama_index.core import SimpleDirectoryReader\n",
    "\n",
    "from llama_index.core.evaluation import DatasetGenerator\n",
    "# from llama_index.core.llama_dataset.generator import RAGDatasetGenerator"
   ]
  },
  {
   "cell_type": "code",
   "execution_count": 3,
   "metadata": {},
   "outputs": [
    {
     "name": "stdout",
     "output_type": "stream",
     "text": [
      "API key found\n"
     ]
    }
   ],
   "source": [
    "LLAMAPARSE_API_KEY = os.environ.get('LLAMAPARSE_API_KEY')\n",
    "if LLAMAPARSE_API_KEY is not None:\n",
    "    print('API key found')\n",
    "else:\n",
    "    print('Check for API key in environment variable')"
   ]
  },
  {
   "cell_type": "code",
   "execution_count": 4,
   "metadata": {},
   "outputs": [],
   "source": [
    "# instantiate parser\n",
    "parser = LlamaParse(\n",
    "    api_key=LLAMAPARSE_API_KEY,\n",
    "    result_type=\"markdown\", # or text\n",
    "    # num_workers=4 # for multiple files\n",
    "    verbose=True,\n",
    "    language=\"en\", # default is english\n",
    ")"
   ]
  },
  {
   "cell_type": "code",
   "execution_count": 5,
   "metadata": {},
   "outputs": [
    {
     "name": "stdout",
     "output_type": "stream",
     "text": [
      "Started parsing the file under job_id c478fefa-cb4d-4efe-88eb-2df1d6dccd6c\n"
     ]
    }
   ],
   "source": [
    "# load document and parse it \n",
    "documents = parser.load_data('../data/axis-press-release-q3fy24.pdf')"
   ]
  },
  {
   "cell_type": "markdown",
   "metadata": {},
   "source": [
    "#### Generate Questions"
   ]
  },
  {
   "cell_type": "code",
   "execution_count": 6,
   "metadata": {},
   "outputs": [
    {
     "name": "stderr",
     "output_type": "stream",
     "text": [
      "/Users/gurdeep/miniconda3/envs/llamaparse/lib/python3.12/site-packages/llama_index/core/evaluation/dataset_generation.py:212: DeprecationWarning: Call to deprecated class DatasetGenerator. (Deprecated in favor of `RagDatasetGenerator` which should be used instead.)\n",
      "  return cls(\n",
      "/Users/gurdeep/miniconda3/envs/llamaparse/lib/python3.12/site-packages/llama_index/core/evaluation/dataset_generation.py:309: DeprecationWarning: Call to deprecated class QueryResponseDataset. (Deprecated in favor of `LabelledRagDataset` which should be used instead.)\n",
      "  return QueryResponseDataset(queries=queries, responses=responses_dict)\n"
     ]
    }
   ],
   "source": [
    "data_generator = DatasetGenerator.from_documents(documents)\n",
    "questions = data_generator.generate_questions_from_nodes()"
   ]
  },
  {
   "cell_type": "code",
   "execution_count": 7,
   "metadata": {},
   "outputs": [
    {
     "data": {
      "text/plain": [
       "[\"What was Axis Bank's operating profit for the quarter ended 31st December 2023?\",\n",
       " \"How much did Axis Bank's PAT increase by quarter on quarter for Q3FY24?\",\n",
       " 'What was the consolidated ROE for Axis Bank for the nine months ended 31st December 2023?',\n",
       " 'How much did the fee income grow year on year for Axis Bank?',\n",
       " 'What was the growth percentage of retail loans for Axis Bank on a year on year basis?',\n",
       " 'What was the GNPA% for Axis Bank in Q3FY24 and how did it change year on year?',\n",
       " 'How many credit cards were issued by Axis Bank in Q3FY24?',\n",
       " 'What is the market share of Axis Bank in the CIF market for credit cards?',\n",
       " 'What new digital banking solution was launched by Axis Bank in the quarter?',\n",
       " 'What awards did Axis Bank win during the quarter, according to the press release?',\n",
       " \"What was the focus of Axis Bank's 'Sparsh Week' initiative?\",\n",
       " \"How did Axis Bank celebrate 'Sparsh Week' and how many employees were reached through this initiative?\",\n",
       " 'What was the growth rate of Net Interest Income for Axis Bank in the last quarter?',\n",
       " 'How did the Core Operating revenues of Axis Bank perform year-on-year and quarter-on-quarter?',\n",
       " 'What was the growth rate of Advances (gross of IBPC sold) for Axis Bank across all business segments?',\n",
       " 'What was the CASA ratio for Axis Bank and how did it compare to industry standards?',\n",
       " 'What was the overall capital adequacy ratio (CAR) for Axis Bank including profit, and what was the CET 1 ratio?',\n",
       " 'How many non-Axis Bank customers are using Axis Mobile and Axis Pay?',\n",
       " 'What is the credit card CIF market share for Axis Bank and how much did Retail Card spends grow year-on-year and quarter-on-quarter?',\n",
       " 'What was the net slippage ratio for Axis Bank in Q3FY24 and how did it compare to the previous year and quarter?',\n",
       " 'What was the operating profit and net profit of Axis Bank for the quarter ended 31st December 2023?',\n",
       " 'How much did the Net Interest Income (NII) grow year-on-year for Axis Bank in Q3FY24?',\n",
       " 'What was the Net Interest Margin (NIM) for Axis Bank in Q3FY24?',\n",
       " 'How much did the fee income grow year-on-year for Axis Bank in Q3FY24?',\n",
       " \"What percentage of the Bank's total fee income was constituted by retail fees in Q3FY24?\",\n",
       " 'How much were the specific loan loss provisions for Axis Bank in Q3FY24?',\n",
       " 'What was the total provision and contingencies amount for Axis Bank in Q3FY24?',\n",
       " 'How much did Axis Bank make in full provision on its entire AIF investments in Q3FY24?',\n",
       " 'What is the standard asset coverage percentage for Axis Bank as on 31st December 2023?',\n",
       " 'What is the provision coverage ratio for Axis Bank as on 31st December 2023?',\n",
       " 'What was the specific loan loss provision for Q3FY24 for AXIS BANK?',\n",
       " 'How much did AXIS BANK make in full provision on its AIF investments during the quarter?',\n",
       " 'What is the total cumulative provision held by AXIS BANK at the end of Q3FY24?',\n",
       " 'What is the standard asset coverage percentage for AXIS BANK as on 31st December, 2023?',\n",
       " 'What is the provision coverage ratio for AXIS BANK as on 31st December, 2023?',\n",
       " 'How much did the Net Interest Income grow by for AXIS BANK in 9MFY24?',\n",
       " 'What was the total fee income for AXIS BANK in 9MFY24?',\n",
       " \"How much did the Bank's advances grow by as on 31st December 2023?\",\n",
       " \"What percentage of the Bank's net advances do retail loans account for?\",\n",
       " 'How much did the SME book grow by for AXIS BANK in the specified period?',\n",
       " 'What was the growth percentage of the SME book in terms of year-on-year and quarter-on-quarter?',\n",
       " 'How much was the corporate loan book (gross of IBPC sold) growth in the last year and last quarter?',\n",
       " 'What percentage of the corporate book is now rated A- and above?',\n",
       " \"How much of the Bank's Investments portfolio was in government securities as of 31st December 2023?\",\n",
       " \"What percentage of digital transactions made by individual customers accounted for the Bank's total financial transactions in Q3FY24?\",\n",
       " 'How many new credit cards did the Bank issue in Q3FY24?',\n",
       " \"What is the Bank's rating on Google Play store for its mobile banking app?\",\n",
       " 'How many partnerships does the Bank have across platforms and ecosystems?',\n",
       " \"What was the growth percentage of the Bank's wealth management business in terms of year-on-year and quarter-on-quarter?\",\n",
       " \"How much were the Bank's shareholders' funds as of 31st December 2023?\",\n",
       " \"What was the growth rate of the Bank's shareholders' funds year-over-year as of 31st December 2023?\",\n",
       " \"How did the Bank's Capital Adequacy Ratio (CAR) and CET1 ratio including profit for 9M compare as of 31st December 2023?\",\n",
       " \"What was the impact of regulatory changes on the Bank's CET-1 ratio during the quarter?\",\n",
       " \"How did the Bank's Gross NPA and Net NPA levels change from 30th September 2023 to 31st December 2023?\",\n",
       " 'What was the amount of recoveries from written off accounts for the quarter?',\n",
       " \"How did the Bank's provision coverage as a proportion of Gross NPAs change from 31st December 2022 to 31st December 2023?\",\n",
       " 'How many branches did the Bank add during the quarter and overall in the 9MFY24 period?',\n",
       " 'What was the overall assets under finance growth for Axis Finance year-over-year?',\n",
       " \"How did Axis Securities' broking revenues for 9MFY24 compare to the previous year?\",\n",
       " 'How many investment banking transactions did Axis Capital complete in 9MFY24?',\n",
       " 'What is the total Capital Adequacy Ratio of Axis Finance as of the current financial year?',\n",
       " \"How much was Axis Finance's 9MFY24 PAT and what was the percentage increase from the previous year?\",\n",
       " 'What was the overall QAAUM growth for Axis AMC in the current financial year?',\n",
       " 'How many investment banking transactions did Axis Capital complete in 9MFY24?',\n",
       " 'What was the percentage growth in broking revenues for Axis Securities in 9MFY24?',\n",
       " 'What was the Net Interest Income for Axis Bank in Q3FY24 and what was the percentage growth from Q3FY23?',\n",
       " 'What was the Operating Profit for Axis Bank in Q3FY24 and how did it compare to Q3FY23?',\n",
       " 'What was the Return on Average Assets for Axis Bank in the current financial year?',\n",
       " \"How much were the total Deposits for Axis Bank as of 31st December'23?\",\n",
       " \"What was the total Investments for Axis Bank as of 31st December'23?\",\n",
       " 'What was the percentage increase in Total Deposits for Axis Bank from December 2022 to December 2023?',\n",
       " 'How much were the CASA Deposits as a percentage of Total Deposits for Axis Bank in December 2023?',\n",
       " 'What was the percentage increase in Retail Term Deposits for Axis Bank from December 2022 to December 2023?',\n",
       " 'What was the Net Advances for Axis Bank in December 2023, broken down by Corporate, SME, and Retail segments?',\n",
       " 'What was the percentage increase in Investments for Axis Bank from December 2022 to December 2023?',\n",
       " 'What was the Gross NPA as a percentage of Gross Customer Assets for Axis Bank in December 2023?',\n",
       " 'How much was the Equity Capital for Axis Bank in December 2023?',\n",
       " 'What was the Capital Adequacy Ratio (Basel III) for Axis Bank in December 2023, broken down by Tier I and Tier II?',\n",
       " \"What was the percentage increase in Shareholders' Funds for Axis Bank from December 2022 to December 2023?\",\n",
       " 'What risks and uncertainties are mentioned in the Safe Harbor statement provided by Axis Bank?']"
      ]
     },
     "execution_count": 7,
     "metadata": {},
     "output_type": "execute_result"
    }
   ],
   "source": [
    "questions"
   ]
  },
  {
   "cell_type": "markdown",
   "metadata": {},
   "source": [
    "#### Generate Answers from source nodes (Context)"
   ]
  },
  {
   "cell_type": "code",
   "execution_count": 8,
   "metadata": {},
   "outputs": [],
   "source": [
    "from llama_index.core import VectorStoreIndex, load_index_from_storage, StorageContext"
   ]
  },
  {
   "cell_type": "code",
   "execution_count": 9,
   "metadata": {},
   "outputs": [],
   "source": [
    "# build index\n",
    "index = VectorStoreIndex.from_documents(documents)\n",
    "\n",
    "# save to disk\n",
    "index.set_index_id(\"axis_pr_vector_index\")\n",
    "index.storage_context.persist('../data/storage')"
   ]
  },
  {
   "cell_type": "code",
   "execution_count": 10,
   "metadata": {},
   "outputs": [],
   "source": [
    "# rebuild storage\n",
    "storage_context = StorageContext.from_defaults(persist_dir='../data/storage')\n",
    "# load index\n",
    "index = load_index_from_storage(storage_context, index_id=\"axis_pr_vector_index\")"
   ]
  },
  {
   "cell_type": "code",
   "execution_count": 11,
   "metadata": {},
   "outputs": [],
   "source": [
    "# generate query engine\n",
    "query_engine = index.as_query_engine(similarity_top_k=3)"
   ]
  },
  {
   "cell_type": "markdown",
   "metadata": {},
   "source": [
    "#### Evaluate answers\n",
    "https://docs.llamaindex.ai/en/stable/module_guides/evaluating/\n",
    "\n",
    "##### Measuring RAG App performance\n",
    "\n",
    "* Response Evaluation - Does the response match the \n",
    "    * Retrieved context - Faithfulness; i.e. checks for hallucination\n",
    "    * Query - context relevancy and answer relevancy\n",
    "    * Reference Answer or guidelines\n",
    "\n",
    "* Retrieval Evaluation - Are the retrieved sources relevant to the query\n",
    "\n",
    "Evaluation answers 3 questions\n",
    "* Response and source nodes match - Response + Source Nodes (Context) - Hallucination - `FaitfulnessEvaluator`\n",
    "* Response, source nodes (context) and query match? - query + response + source nodes (context) `RelevancyEvaluator`\n",
    "* Which of the retrieved source nodes used to generate a response? - query + response + individual source nodes (context)\n",
    "\n",
    "##### 1. Response and source nodes match - Response + Source Nodes (Context) - Hallucination\n",
    "\n",
    "* response object for a query returns both source nodes and response\n",
    "* we evaluate here without taking into account query\n",
    "* Checks for model hallucination\n",
    "\n",
    "https://docs.llamaindex.ai/en/stable/understanding/evaluating/evaluating/"
   ]
  },
  {
   "cell_type": "code",
   "execution_count": 12,
   "metadata": {},
   "outputs": [],
   "source": [
    "from llama_index.llms.openai import OpenAI\n",
    "from llama_index.core.evaluation import FaithfulnessEvaluator"
   ]
  },
  {
   "cell_type": "code",
   "execution_count": 28,
   "metadata": {},
   "outputs": [],
   "source": [
    "# set llm and load evaluator\n",
    "llm = OpenAI(model=\"gpt-4\", temperature=0.0)\n",
    "faithfulness_evaluator = FaithfulnessEvaluator(llm=llm)"
   ]
  },
  {
   "cell_type": "code",
   "execution_count": 29,
   "metadata": {},
   "outputs": [
    {
     "name": "stdout",
     "output_type": "stream",
     "text": [
      "True\n"
     ]
    }
   ],
   "source": [
    "# index and query engine already defined above\n",
    "response = query_engine.query(\"What was Axis Bank's operating profit for the quarter ended 31st December 2023?\")\n",
    "eval_result = faithfulness_evaluator.evaluate_response(response=response)\n",
    "# print(eval_result)\n",
    "print(str(eval_result.passing))"
   ]
  },
  {
   "cell_type": "markdown",
   "metadata": {},
   "source": [
    "#### Evaluate each source context individually"
   ]
  },
  {
   "cell_type": "code",
   "execution_count": 30,
   "metadata": {},
   "outputs": [
    {
     "name": "stdout",
     "output_type": "stream",
     "text": [
      "True\n",
      "True\n",
      "False\n"
     ]
    }
   ],
   "source": [
    "response = query_engine.query(\"What was Axis Bank's operating profit for the quarter ended 31st December 2023?\")\n",
    "response_str = response.response\n",
    "for source_node in response.source_nodes:\n",
    "    eval_result = faithfulness_evaluator.evaluate(\n",
    "        response=response_str, contexts=[source_node.get_content()]\n",
    "    )\n",
    "    print(str(eval_result.passing))"
   ]
  },
  {
   "cell_type": "markdown",
   "metadata": {},
   "source": [
    "#### 2. Evaluate Query + Response Relvancy\n",
    "\n",
    "Evaluates if retrieved context and answer is relevant and consistent with query `RelevancyEvaluator`"
   ]
  },
  {
   "cell_type": "code",
   "execution_count": 20,
   "metadata": {},
   "outputs": [],
   "source": [
    "from llama_index.core.evaluation import RelevancyEvaluator"
   ]
  },
  {
   "cell_type": "code",
   "execution_count": 31,
   "metadata": {},
   "outputs": [],
   "source": [
    "# build index and query engine - done above\n",
    "relevancy_evaluator = RelevancyEvaluator(llm=llm)\n"
   ]
  },
  {
   "cell_type": "code",
   "execution_count": 32,
   "metadata": {},
   "outputs": [
    {
     "name": "stdout",
     "output_type": "stream",
     "text": [
      "query=\"What was Axis Bank's operating profit for the quarter ended 31st December 2023?\" contexts=[\"## AXIS BANK\\n\\n## PRESS RELEASE\\n\\n## AXIS BANK ANNOUNCES FINANCIAL RESULTS\\n\\n## FOR THE QUARTER AND NINE MONTHS ENDED 31st DECEMBER 2023\\n\\nQ3FY24 Operating profit at `9,141 crores up 6% QOQ, PAT at `6,071 crores up 4% QOQ; Consolidated ROE at 18.61%, aided by a balanced sequential deposit and loan growth of 5% and 4% respectively\\n\\n9MFY24 PAT at `17,732 crores, up 16% YOY; Consolidated ROE at 18.86%, up 82 bps YOY\\n\\n- Consolidated ROA at 1.84%, with 9 bps contributed by subsidiaries\\n- Net Interest Income grew 9% YOY and 2% QOQ, Net Interest Margin at 4.01%\\n- Fee income grew 29% YOY and 4% QOQ, Retail fee grew 36% YOY and 6% QOQ, granular fees at 93% of total fees\\n- Core Operating revenue up 14% YOY and 2% QOQ\\n- Bank’s total business grew 20% | 5% of which advances grew 22% | 4% and MEB1 deposits grew 18% | 5% on YOY | QOQ basis\\n- On a MEB1, retail term deposits grew 17% YOY & 2% QOQ, CASA grew 12% YOY with CASA ratio at 42%\\n- Retail loans up 27% | 5%, SME up 26% | 4%, Corporate loans (gross of IBPC2 sold) up 15% | 3% on YOY | QOQ basis\\n- Overall CAR3 stood at 16.63% with CET 1 ratio of 13.71%, organic net accretion to CET-1 of 39 bps in 9MFY24\\n- GNPA% at 1.58% declined by 80 bps YOY and 15 bps QOQ, NNPA% at 0.36% declined by 11 bps YOY\\n- 1.26 million credit cards issued in Q3, CIF market share4 of 14%, card spends up 79% YOY & 13% QOQ\\n- Largest player in Merchant Acquiring with market share of 18.9%, incremental share of 26% in last one year4\\n\\nThe Board of Directors of Axis Bank Limited approved the financial results for the quarter and nine months ended 31st December 2023 at its meeting held in Mumbai on Tuesday, 23rd January 2024.\\n\\nThis quarter marked the launch of 'Open,' Axis Bank’s advanced digital banking solution. The launch is a culmination of the Bank’s multi-year effort to build a digital Bank within the Bank, focused on delivering personalized, intuitive, and hassle-free digital banking experience for its customers. Axis 2.0 is now open by Axis Bank, the future ready mobile application that continues to see strong growth with monthly active users of ~13 million Axis customers and nearly ~10 million non-Axis Bank customers. With a rating of 4.8 on Google Playstore, the power packed mobile app aptly demonstrates the Bank’s enhanced digital capabilities and offerings, and is a one stop shop for all digital banking needs with 250+ banking services on the go.\\n\\nAxis Bank joined forces with the India SME Forum for the 10th India SME 100 Awards, recognizing outstanding MSMEs for their significant contribution to the industry. Some of the accolades won by Axis Bank during the quarter include NASSCOM-DSCI Annual Excellence Awards 2023 for Best Security Practices in Banks; ASSOCHAM's Corporate Bond Market Award for Issuer Investment Banker (Merchant Banker of the Year) and Annual Banking and Financial Sector Lending Award (Large companies) for Best Risk Initiatives, Best Cyber Security Initiatives and Best Digital Initiatives.\\n\\nAmitabh Chaudhry, MD&CEO, Axis Bank said, “The conversations on India are buoyant and it’s being looked upon as an important investment destination, evident in discussions at global platforms like the World Economic Forum. The Indian economic momentum has been strong in FY24, and we believe the trend will continue well into FY25. At Axis Bank, our focus has been on sustainable and inclusive growth, with customer taking the centerstage in every discussion. This quarter we celebrated ‘Sparsh Week’, a week-long agenda focused on educative customer centric activities, with 15 events covering 5000+ branches and retail asset centers, reaching out to 95000+ employees.”\\n\\n1 Monthly End balances;\", '28%, declined 14 bps QOQ\\n\\nKey domestic subsidiaries7 continue to deliver steady performance\\n9MFY24 profit at `1,108 crores up 17% YOY, wip a return on investment in domestic subsidiaries of 50%\\nAxis Finance 9MFY24 PAT grew 25% YOY to `425 crores; asset quality metrics improve, ROE at 16.4%\\nAxis AMC 9MFY24 PAT stood at `297 crores, Axis Securities 9MFY24 PAT grew 31% YOY to `198 crores\\nAxis Capital 9MFY24 PAT stood at `108 crores and executed 71 investment banking deals in 9MFY24\\n\\n1 QAB – Quarterly Average Balance, 2 Liquidity Coverage Ratio 3 across 64 global banks, 82 fintechs and 9 neo banks with 2.4 mn+ reviews 4 Monthly active users, engaging in financial and non-financial transactions, 5 (specific+ standard+ additional + COVID) 6 Annualized 7 Figures of subsidiaries are as per Indian GAAP, as used for consolidated financial statements of the Group\\n---\\n## AXIS BANK\\n\\n### Profit & Loss Account: Period ended 31st December 2023\\n\\n|Operating Profit and Net Profit|The Bank’s operating profit for the quarter stood at `9,141 crores, grew 6% QOQ. Core Operating profit for Q3FY24 stood at `8,850 crores. Net profit at `6,071 crores in Q3FY24 grew by 4% YOY.|\\n|---|---|\\n|Net Interest Income and Net Interest Margin|The Bank’s Net Interest Income (NII) grew 9% YOY and 2% QOQ to `12,532 crores. Net interest margin (NIM) for Q3FY24 stood at 4.01%.|\\n|Other Income|Fee income for Q3FY24 grew 29% YOY and 4% QOQ to `5,170 crores. Retail fees grew 36% YOY and 6% QOQ; and constituted 72% of the Bank’s total fee income. Retail cards and payments fee grew 52% YOY and 10% QOQ. Retail Assets (excluding cards and payments) fee grew 26% YOY and 7% QOQ. The Corporate & Commercial banking fees together grew 15% YOY to `1,471 crores. The trading income gain for the quarter stood at `291 crores; miscellaneous income in Q3FY24 stood at `94 crores. Overall, non-interest income (comprising of fee, trading and miscellaneous income) for Q3FY24 grew 22% YOY to `5,555 crores.|\\n|Provisions and contingencies|Provision and contingencies for Q3FY24 stood at `1,028 crores. Specific loan loss provisions for Q3FY24 stood at `691 crores. During the quarter, the Bank made a full provision on its entire AIF investments aggregating `182 crores. The Bank has not utilized Covid provisions during the quarter. The Bank holds cumulative provisions (standard + additional other than NPA) of `11,981 crores at the end of Q3FY24. It is pertinent to note that this is over and above the NPA provisioning included in our PCR calculations. These cumulative provisions translate to a standard asset coverage of 1.29% as on 31st December, 2023. On an aggregated basis, our provision coverage ratio (including specific + standard + additional + Covid provisions) stands at 153% of GNPA as on 31st December, 2023.', '---\\n## AXIS BANK\\n\\n|Business Performance|As on 31st December’23|As on 31st December’22|` crore|\\n|---|---|---|---|\\n|Total Deposits (i)+(ii)|10,04,900|8,48,375|18%|\\n|(i) CASA Deposits|4,23,458|3,77,915|12%|\\n|- Savings Bank Deposits|2,90,363|2,51,392|16%|\\n|- Current Account Deposits|1,33,095|1,26,523|5%|\\n|CASA Deposits as % of Total Deposits|42%|45%| |\\n|(ii) Term Deposits|5,81,441|4,70,460|24%|\\n|- Retail Term Deposits|3,39,262|2,90,519|17%|\\n|- Non Retail Term Deposits|2,42,179|1,79,941|35%|\\n|CASA Deposits on a Quarterly Daily Average Basis (QAB)|3,98,679|3,54,097|13%|\\n|CASA Deposits as % of Total Deposits (QAB)|42%|44%| |\\n|Net Advances (a) +(b) + (c)|9,32,286|7,62,277|22%|\\n|(a) Corporate|2,85,244|2,53,392|13%|\\n|(b) SME|1,00,043|79,370|26%|\\n|(c) Retail|5,46,999|4,29,514|27%|\\n|Investments|3,09,070|3,05,103|1%|\\n|Balance Sheet Size|13,98,541|12,23,710|14%|\\n|Gross NPA as % of Gross Customer Assets|1.58%|2.38%| |\\n|Net NPA as % of Net Customer Assets|0.36%|0.47%| |\\n|Equity Capital|617|615|0.3%|\\n|Shareholders’ Funds|1,42,984|1,30,645|9%|\\n|Capital Adequacy Ratio (Basel III)|14.88%|17.60%| |\\n|- Tier I|12.43%|14.24%| |\\n|- Tier II|2.45%|3.36%| |\\n|Capital Adequacy Ratio (Basel III) (incl. profit)|16.63%|19.51%| |\\n|- Tier I|14.18%|16.15%| |\\n|- Tier II|2.45%|3.36%| |\\n\\nNote - Prior period numbers have been regrouped as applicable for comparison.\\n---\\nAXIS BANK\\n\\nA presentation for investors is being separately placed on the Bank\\'s website: www.axisbank.com.\\n\\nFor press queries, please contact Ms Piyali Reddy at 91-22-24252021 or email: Piyali.Reddy@axisbank.com\\n\\nSafe Harbor\\n\\nExcept for the historical information contained herein, statements in this release which contain words or phrases such as \"will\", \"aim\", \"will likely result\", \"would\", \"believe\", \"may\", \"expect\", \"will continue\", \"anticipate\", \"estimate\", \"intend\", \"plan\", \"contemplate\", \"seek to\", \"future\", \"objective\", \"goal\", \"strategy\", \"philosophy\", \"project\", \"should\", \"will pursue\" and similar expressions or variations of such expressions may constitute \"forward-looking statements\". These forward-looking statements involve a number of risks, uncertainties and other factors that could cause actual results to differ materially from those suggested by the forward-looking statements. These risks and uncertainties include, but are not limited to our ability to successfully implement our strategy, future levels of non-performing loans, our growth and expansion, the adequacy of our allowance for credit losses, our provisioning policies, technological changes, investment income, cash flow projections, our exposure to market risks as well as other risks. Axis Bank Limited undertakes no obligation to update forward-looking statements to reflect events or circumstances after the date thereof.\\n\\n9'] response=\"Axis Bank's operating profit for the quarter ended 31st December 2023 was `9,141 crores.\" passing=True feedback='YES' score=1.0 pairwise_source=None invalid_result=False invalid_reason=None\n"
     ]
    }
   ],
   "source": [
    "query = \"What was Axis Bank's operating profit for the quarter ended 31st December 2023?\"\n",
    "response = query_engine.query(query)\n",
    "eval_result = relevancy_evaluator.evaluate_response(query=query, response=response)\n",
    "print(str(eval_result))"
   ]
  },
  {
   "cell_type": "markdown",
   "metadata": {},
   "source": [
    "#### Evaluate on a specific source node"
   ]
  },
  {
   "cell_type": "code",
   "execution_count": 33,
   "metadata": {},
   "outputs": [
    {
     "name": "stdout",
     "output_type": "stream",
     "text": [
      "True\n",
      "True\n",
      "False\n"
     ]
    }
   ],
   "source": [
    "query = \"What was Axis Bank's operating profit for the quarter ended 31st December 2023?\"\n",
    "response = query_engine.query(query)\n",
    "response_str=response.response\n",
    "for source_node in response.source_nodes:\n",
    "    eval_result = relevancy_evaluator.evaluate(\n",
    "        query=query,\n",
    "        response=response_str,\n",
    "        contexts=[source_node.get_content()],\n",
    "    )\n",
    "    print(str(eval_result.passing))"
   ]
  },
  {
   "cell_type": "markdown",
   "metadata": {},
   "source": [
    "#### Batch Evaluation\n",
    "\n",
    "* Run a set of evaluators across many questions"
   ]
  },
  {
   "cell_type": "code",
   "execution_count": 26,
   "metadata": {},
   "outputs": [],
   "source": [
    "from llama_index.core.evaluation import BatchEvalRunner"
   ]
  },
  {
   "cell_type": "code",
   "execution_count": 38,
   "metadata": {},
   "outputs": [],
   "source": [
    "runner = BatchEvalRunner(\n",
    "    {\"faithfulness\": faithfulness_evaluator, \"relevancy\": relevancy_evaluator},\n",
    "    workers=1,\n",
    ")\n",
    "\n",
    "eval_results = await runner.aevaluate_queries(\n",
    "    query_engine, queries=questions,\n",
    ")"
   ]
  },
  {
   "cell_type": "code",
   "execution_count": 35,
   "metadata": {},
   "outputs": [],
   "source": [
    "def get_eval_results(key, eval_results):\n",
    "    results = eval_results[key]\n",
    "    correct = 0\n",
    "    for result in results:\n",
    "        if result.passing:\n",
    "            correct += 1\n",
    "    score = correct / len(results)\n",
    "    print(f\"{key} Score: {score}\")\n",
    "    return score"
   ]
  },
  {
   "cell_type": "code",
   "execution_count": 36,
   "metadata": {},
   "outputs": [
    {
     "ename": "NameError",
     "evalue": "name 'eval_results' is not defined",
     "output_type": "error",
     "traceback": [
      "\u001b[0;31m---------------------------------------------------------------------------\u001b[0m",
      "\u001b[0;31mNameError\u001b[0m                                 Traceback (most recent call last)",
      "Cell \u001b[0;32mIn[36], line 1\u001b[0m\n\u001b[0;32m----> 1\u001b[0m score \u001b[38;5;241m=\u001b[39m get_eval_results(\u001b[38;5;124m\"\u001b[39m\u001b[38;5;124mcorrectness\u001b[39m\u001b[38;5;124m\"\u001b[39m, \u001b[43meval_results\u001b[49m)\n\u001b[1;32m      2\u001b[0m score\n",
      "\u001b[0;31mNameError\u001b[0m: name 'eval_results' is not defined"
     ]
    }
   ],
   "source": [
    "score = get_eval_results(\"correctness\", eval_results)\n",
    "score"
   ]
  },
  {
   "cell_type": "code",
   "execution_count": null,
   "metadata": {},
   "outputs": [],
   "source": [
    "score = get_eval_results(\"relevancy\", eval_results)"
   ]
  },
  {
   "cell_type": "markdown",
   "metadata": {},
   "source": [
    "#### 2. Retrieval Evaluation\n",
    "https://docs.llamaindex.ai/en/stable/module_guides/evaluating/usage_pattern_retrieval/\n",
    "\n",
    "* Are the retrieved sources relevant to the query"
   ]
  },
  {
   "cell_type": "code",
   "execution_count": 15,
   "metadata": {},
   "outputs": [],
   "source": [
    "from llama_index.core.evaluation import RetrieverEvaluator"
   ]
  },
  {
   "cell_type": "code",
   "execution_count": 16,
   "metadata": {},
   "outputs": [],
   "source": [
    "# define retriever and evaluator\n",
    "retriever = index.as_retriever(similarity_top_k=3)\n",
    "retriever_evaluator = RetrieverEvaluator.from_metric_names(\n",
    "    ['mrr', 'hit_rate'],\n",
    "    retriever=retriever,\n",
    ")"
   ]
  },
  {
   "cell_type": "code",
   "execution_count": 18,
   "metadata": {},
   "outputs": [
    {
     "data": {
      "text/plain": [
       "RetrievalEvalResult(query='query', expected_ids=['node_id1', 'node_id2', 'node_id3'], expected_texts=None, retrieved_ids=['e3bba795-3145-409c-b341-45cc1e0dcbc3', '4d0117bd-8f10-4e59-afe8-df2763a962e6', '3254b367-5984-4d6a-8bc1-c542020f2193'], retrieved_texts=['Amitabh Chaudhry, MD&CEO, Axis Bank said, “The conversations on India are buoyant and it’s being looked upon as an important investment destination, evident in discussions at global platforms like the World Economic Forum. The Indian economic momentum has been strong in FY24, and we believe the trend will continue well into FY25. At Axis Bank, our focus has been on sustainable and inclusive growth, with customer taking the centerstage in every discussion. This quarter we celebrated ‘Sparsh Week’, a week-long agenda focused on educative customer centric activities, with 15 events covering 5000+ branches and retail asset centers, reaching out to 95000+ employees.”\\n\\n1 Monthly End balances; 2 Inter Bank Participation Certificates 3 Capital Adequacy Ratio including 9M profits 4 Based on RBI reported data as of Nov’23\\n---\\n## AXIS BANK\\n\\nPerformance at a Glance\\n\\nHealpy operating performance\\nNet Interest Income grew 9% YOY and 2% QOQ, Net Interest Margin at 4.01%\\nCore Operating revenues grew 14% YOY and 2% QOQ, operating profit grew 6% QOQ\\nConsolidated ROE | ROA at 18.61% | 1.84%, subsidiaries contributed 54 bps | 9 bps respectively\\n\\nStrong loan growp delivered across all business segments\\nAdvances (gross of IBPC sold) up 23% | 4%, Rural loans grew 34% YOY & 7% QOQ\\nSmall Business Banking loans grew 40% YOY & 6% QOQ, Mid-Corporate (MC) book grew 30% YOY\\nSBB + SME + MC mix at ₹1,98,553 crores | 21% of loans, up ~620 bps in last 3 years\\n\\nRetail term deposits gaining traction, CASA ratio among pe best in pe industry\\nOn QAB1 basis, RTD grew 15% YOY & 3% QOQ, total deposits grew by 18% YOY & 4% QOQ\\nOn QAB, CASA grew 13% YOY and 1% QOQ, CASA ratio stood at 42%\\nAverage LCR2 during Q3FY24 was ~118%, outflow rates improved ~ 600 bps over last 2 years\\n\\nWell capitalized wip self-sustaining capital structure\\nOverall capital adequacy ratio (CAR) including profit stood at 16.63% wip CET 1 ratio of 13.71%\\nSelf-sustaining capital structure wip net organic accretion to CET-1 of 39 bps in 9MFY24\\nCOVID provisions of `5,012 crores, not in CAR calculation provides additional cushion of ~43 bps\\n\\nContinue to maintain strong position in Payments and Digital Banking\\nAxis Mobile & Axis Pay have ~10 mn non-Axis Bank customers\\n100+ digital partnerships across platforms and ecosystems; ~18.8 mn customers on WhatsApp banking\\nAxis Mobile remains pe world’s3 highest rated MB app on Google Play store wip rating of 4.8; On pe iOS app store our ratings increased from 4.6 to 4.7 during pe quarter; ~13 mn MAU4\\nCredit card CIF market share at 14%, Retail Card spends grew 88% YOY and 13% QOQ\\n\\nDeclining slippages, gross NPA and credit cost\\nPCR healpy at 78%; On an aggregated basis5, Coverage ratio at 153%\\nNet slippage ratio6 at 0.50% declined 43 bps YOY & 9 bps QOQ, Gross slippage ratio6 at 1.62%, declined 41 bps YOY\\nQ3FY24 net credit cost6 at 0.28%, declined 14 bps QOQ\\n\\nKey domestic subsidiaries7 continue to deliver steady performance\\n9MFY24 profit at `1,108 crores up 17% YOY, wip a return on investment in domestic subsidiaries of 50%\\nAxis Finance 9MFY24 PAT grew 25% YOY to `425 crores; asset quality metrics improve, ROE at 16.4%\\nAxis AMC 9MFY24 PAT stood at `297 crores, Axis Securities 9MFY24 PAT grew 31% YOY to `198 crores\\nAxis Capital 9MFY24 PAT stood at `108 crores and executed 71 investment banking deals in 9MFY24\\n\\n1 QAB – Quarterly Average Balance, 2 Liquidity Coverage Ratio 3 across 64 global banks, 82 fintechs and 9 neo banks with 2.4 mn+ reviews 4 Monthly active users,', \"## AXIS BANK\\n\\n## PRESS RELEASE\\n\\n## AXIS BANK ANNOUNCES FINANCIAL RESULTS\\n\\n## FOR THE QUARTER AND NINE MONTHS ENDED 31st DECEMBER 2023\\n\\nQ3FY24 Operating profit at `9,141 crores up 6% QOQ, PAT at `6,071 crores up 4% QOQ; Consolidated ROE at 18.61%, aided by a balanced sequential deposit and loan growth of 5% and 4% respectively\\n\\n9MFY24 PAT at `17,732 crores, up 16% YOY; Consolidated ROE at 18.86%, up 82 bps YOY\\n\\n- Consolidated ROA at 1.84%, with 9 bps contributed by subsidiaries\\n- Net Interest Income grew 9% YOY and 2% QOQ, Net Interest Margin at 4.01%\\n- Fee income grew 29% YOY and 4% QOQ, Retail fee grew 36% YOY and 6% QOQ, granular fees at 93% of total fees\\n- Core Operating revenue up 14% YOY and 2% QOQ\\n- Bank’s total business grew 20% | 5% of which advances grew 22% | 4% and MEB1 deposits grew 18% | 5% on YOY | QOQ basis\\n- On a MEB1, retail term deposits grew 17% YOY & 2% QOQ, CASA grew 12% YOY with CASA ratio at 42%\\n- Retail loans up 27% | 5%, SME up 26% | 4%, Corporate loans (gross of IBPC2 sold) up 15% | 3% on YOY | QOQ basis\\n- Overall CAR3 stood at 16.63% with CET 1 ratio of 13.71%, organic net accretion to CET-1 of 39 bps in 9MFY24\\n- GNPA% at 1.58% declined by 80 bps YOY and 15 bps QOQ, NNPA% at 0.36% declined by 11 bps YOY\\n- 1.26 million credit cards issued in Q3, CIF market share4 of 14%, card spends up 79% YOY & 13% QOQ\\n- Largest player in Merchant Acquiring with market share of 18.9%, incremental share of 26% in last one year4\\n\\nThe Board of Directors of Axis Bank Limited approved the financial results for the quarter and nine months ended 31st December 2023 at its meeting held in Mumbai on Tuesday, 23rd January 2024.\\n\\nThis quarter marked the launch of 'Open,' Axis Bank’s advanced digital banking solution. The launch is a culmination of the Bank’s multi-year effort to build a digital Bank within the Bank, focused on delivering personalized, intuitive, and hassle-free digital banking experience for its customers. Axis 2.0 is now open by Axis Bank, the future ready mobile application that continues to see strong growth with monthly active users of ~13 million Axis customers and nearly ~10 million non-Axis Bank customers. With a rating of 4.8 on Google Playstore, the power packed mobile app aptly demonstrates the Bank’s enhanced digital capabilities and offerings, and is a one stop shop for all digital banking needs with 250+ banking services on the go.\\n\\nAxis Bank joined forces with the India SME Forum for the 10th India SME 100 Awards, recognizing outstanding MSMEs for their significant contribution to the industry. Some of the accolades won by Axis Bank during the quarter include NASSCOM-DSCI Annual Excellence Awards 2023 for Best Security Practices in Banks; ASSOCHAM's Corporate Bond Market Award for Issuer Investment Banker (Merchant Banker of the Year) and Annual Banking and Financial Sector Lending Award (Large companies) for Best Risk Initiatives, Best Cyber Security Initiatives and Best Digital Initiatives.\\n\\nAmitabh Chaudhry, MD&CEO, Axis Bank said, “The conversations on India are buoyant and it’s being looked upon as an important investment destination, evident in discussions at global platforms like the World Economic Forum. The Indian economic momentum has been strong in FY24, and we believe the trend will continue well into FY25. At Axis Bank, our focus has been on sustainable and inclusive growth, with customer taking the centerstage in every discussion. This quarter we celebrated ‘Sparsh Week’, a week-long agenda focused on educative customer centric activities, with 15 events covering 5000+ branches and retail asset centers, reaching out to 95000+ employees.”\\n\\n1 Monthly End balances;\", '28%, declined 14 bps QOQ\\n\\nKey domestic subsidiaries7 continue to deliver steady performance\\n9MFY24 profit at `1,108 crores up 17% YOY, wip a return on investment in domestic subsidiaries of 50%\\nAxis Finance 9MFY24 PAT grew 25% YOY to `425 crores; asset quality metrics improve, ROE at 16.4%\\nAxis AMC 9MFY24 PAT stood at `297 crores, Axis Securities 9MFY24 PAT grew 31% YOY to `198 crores\\nAxis Capital 9MFY24 PAT stood at `108 crores and executed 71 investment banking deals in 9MFY24\\n\\n1 QAB – Quarterly Average Balance, 2 Liquidity Coverage Ratio 3 across 64 global banks, 82 fintechs and 9 neo banks with 2.4 mn+ reviews 4 Monthly active users, engaging in financial and non-financial transactions, 5 (specific+ standard+ additional + COVID) 6 Annualized 7 Figures of subsidiaries are as per Indian GAAP, as used for consolidated financial statements of the Group\\n---\\n## AXIS BANK\\n\\n### Profit & Loss Account: Period ended 31st December 2023\\n\\n|Operating Profit and Net Profit|The Bank’s operating profit for the quarter stood at `9,141 crores, grew 6% QOQ. Core Operating profit for Q3FY24 stood at `8,850 crores. Net profit at `6,071 crores in Q3FY24 grew by 4% YOY.|\\n|---|---|\\n|Net Interest Income and Net Interest Margin|The Bank’s Net Interest Income (NII) grew 9% YOY and 2% QOQ to `12,532 crores. Net interest margin (NIM) for Q3FY24 stood at 4.01%.|\\n|Other Income|Fee income for Q3FY24 grew 29% YOY and 4% QOQ to `5,170 crores. Retail fees grew 36% YOY and 6% QOQ; and constituted 72% of the Bank’s total fee income. Retail cards and payments fee grew 52% YOY and 10% QOQ. Retail Assets (excluding cards and payments) fee grew 26% YOY and 7% QOQ. The Corporate & Commercial banking fees together grew 15% YOY to `1,471 crores. The trading income gain for the quarter stood at `291 crores; miscellaneous income in Q3FY24 stood at `94 crores. Overall, non-interest income (comprising of fee, trading and miscellaneous income) for Q3FY24 grew 22% YOY to `5,555 crores.|\\n|Provisions and contingencies|Provision and contingencies for Q3FY24 stood at `1,028 crores. Specific loan loss provisions for Q3FY24 stood at `691 crores. During the quarter, the Bank made a full provision on its entire AIF investments aggregating `182 crores. The Bank has not utilized Covid provisions during the quarter. The Bank holds cumulative provisions (standard + additional other than NPA) of `11,981 crores at the end of Q3FY24. It is pertinent to note that this is over and above the NPA provisioning included in our PCR calculations. These cumulative provisions translate to a standard asset coverage of 1.29% as on 31st December, 2023. On an aggregated basis, our provision coverage ratio (including specific + standard + additional + Covid provisions) stands at 153% of GNPA as on 31st December, 2023.'], mode=<RetrievalEvalMode.TEXT: 'text'>, metric_dict={'mrr': RetrievalMetricResult(score=0.0, metadata={}), 'hit_rate': RetrievalMetricResult(score=0.0, metadata={})})"
      ]
     },
     "execution_count": 18,
     "metadata": {},
     "output_type": "execute_result"
    }
   ],
   "source": [
    "# perform evaluation\n",
    "retriever_evaluator.evaluate(\n",
    "    query=\"query\",\n",
    "    expected_ids=['node_id1', 'node_id2', 'node_id3']\n",
    ")"
   ]
  },
  {
   "cell_type": "code",
   "execution_count": null,
   "metadata": {},
   "outputs": [],
   "source": []
  }
 ],
 "metadata": {
  "kernelspec": {
   "display_name": "llamaparse",
   "language": "python",
   "name": "python3"
  },
  "language_info": {
   "codemirror_mode": {
    "name": "ipython",
    "version": 3
   },
   "file_extension": ".py",
   "mimetype": "text/x-python",
   "name": "python",
   "nbconvert_exporter": "python",
   "pygments_lexer": "ipython3",
   "version": "3.12.2"
  }
 },
 "nbformat": 4,
 "nbformat_minor": 2
}
