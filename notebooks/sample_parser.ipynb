{
 "cells": [
  {
   "cell_type": "markdown",
   "metadata": {},
   "source": [
    "https://towardsdatascience.com/extracting-text-from-pdf-files-with-python-a-comprehensive-guide-9fc4003d517"
   ]
  },
  {
   "cell_type": "code",
   "execution_count": 6,
   "metadata": {},
   "outputs": [],
   "source": [
    "\n",
    "# to read pdf\n",
    "import PyPDF2\n",
    "\n",
    "# to analyse pdf layout and extract text\n",
    "from pdfminer.high_level import extract_pages, extract_text\n",
    "from pdfminer.layout import LTTextContainer, LTChar, LTRect, LTFigure\n",
    "\n",
    "# extract tables\n",
    "import pdfplumber\n",
    "\n",
    "# extract images\n",
    "from PIL import Image\n",
    "from pdf2image import convert_from_path\n",
    "\n",
    "# perform OCR to extract text from images\n",
    "import pytesseract \n",
    "\n",
    "# standard imports\n",
    "import os"
   ]
  },
  {
   "cell_type": "markdown",
   "metadata": {},
   "source": [
    "#### Approach\n",
    "\n",
    "* Use PDFMinder to split document into multiple page objects\n",
    "* PDF files inherently lack structured information such as paragraphs, sentences or words\n",
    "* They understand only individual characters and their position on the page\n",
    "\n",
    "##### How does PDFMinder work?\n",
    "\n",
    "* Reconstructs contents of hte page into its individual characters along with their positions in the file\n",
    "* Compares distances of the characters from others it composes the appropriate words, sentences and paragraphs\n",
    "* Converts each page into and LTPage object\n",
    "* For each page it tries to identify the component as \n",
    "    * LTFigure - embedded image\n",
    "    * LTText Container - block of text which is split into LTextLine and then into LTChar objects\n",
    "    * LTRect objects - 2D recatngle used to frame images, figures, tables into an LTPage object.\n",
    "* Based on reconstruction we apply the appropriate function."
   ]
  },
  {
   "cell_type": "code",
   "execution_count": 7,
   "metadata": {},
   "outputs": [],
   "source": [
    "# function to extract text from PDF document using PyPDF2\n",
    "def text_extraction(element):\n",
    "    # extract text from in-line text elements\n",
    "    line_text = element.get_text()\n",
    "    \n",
    "    # find the format of the text\n",
    "    # initialize a list with all formats that appeared in the line of text\n",
    "    line_formats = []\n",
    "    # iterate through all elements\n",
    "    for text_line in element:\n",
    "        # if the element is a text container\n",
    "        if isinstance(text_line, LTTextContainer):\n",
    "            # iterate through each character in the line of text\n",
    "            for character in text_line:\n",
    "                if isinstance(character, LTChar):\n",
    "                    # append font name of character\n",
    "                    line_formats.append(character.fontname)\n",
    "                    # append font size of character\n",
    "                    line_formats.append(character.size)\n",
    "    \n",
    "    # find unique font sizes and names in the line\n",
    "    format_per_line = list(set(line_formats))\n",
    "    \n",
    "    # return a tuple with text in each line along with its format\n",
    "    return (line_text, format_per_line)\n",
    "    "
   ]
  },
  {
   "cell_type": "code",
   "execution_count": 8,
   "metadata": {},
   "outputs": [],
   "source": [
    "# define a function to crop image elements from pdf\n",
    "def crop_image(element, pageObj):\n",
    "    # get the coordinates of the image\n",
    "    [image_left, image_top, image_right, image_bottom] = [element.xo, element.yo, element.x1, element.y1]\n",
    "    \n",
    "    # crop the page using cooridnates\n",
    "    pageObj.mediabox.lower_left = (image_left, image_bottom)\n",
    "    pageObj.mediabox.upper_right = (image_right, image_top)\n",
    "    \n",
    "    # save cropped image to a new PDF\n",
    "    cropped_pdf_writer = PyPDF2.PdfWriter()\n",
    "    cropped_pdf_writer.add_page(pageObj)\n",
    "    \n",
    "    # save cropped pdf to a new file\n",
    "    with open('cropped_image.pdf', 'wb') as cropped_pdf_file:\n",
    "        cropped_pdf_writer.write(cropped_pdf_file)"
   ]
  },
  {
   "cell_type": "code",
   "execution_count": 9,
   "metadata": {},
   "outputs": [],
   "source": [
    "# function to convert PDF to image\n",
    "def convert_to_images(input_file):\n",
    "    images = convert_from_path(input_file)\n",
    "    image = images[0]\n",
    "    output_file = \"PDF_image.png\"\n",
    "    image.save(output_file, \"PNG\")"
   ]
  },
  {
   "cell_type": "code",
   "execution_count": 10,
   "metadata": {},
   "outputs": [],
   "source": [
    "# create a function to read text from images\n",
    "def image_to_text(image_path):\n",
    "    img = Image.open(image_path)\n",
    "    text = pytesseract.image_to_string(img)\n",
    "    return text"
   ]
  },
  {
   "cell_type": "code",
   "execution_count": 11,
   "metadata": {},
   "outputs": [],
   "source": [
    "# create a function to extract tables from image\n",
    "def extract_table(pdf_path, page_num, table_num):\n",
    "    # open the pdf file\n",
    "    pdf = pdfplumber.open(pdf_path)\n",
    "    \n",
    "    # find the examined page\n",
    "    table_page = pdf.pages[page_num]\n",
    "    \n",
    "    # extract the table\n",
    "    table = table_page.extract_tables()[table_num]\n",
    "    \n",
    "    # return the table\n",
    "    return table\n",
    "    "
   ]
  },
  {
   "cell_type": "code",
   "execution_count": 12,
   "metadata": {},
   "outputs": [],
   "source": [
    "# write a function to convert teh table into the appropriate format\n",
    "def table_converter(table):\n",
    "    table_string = ''\n",
    "    # Iterate through each row of the table\n",
    "    for row_num in range(len(table)):\n",
    "        row = table[row_num]\n",
    "        # Remove the line breaker from the wrapped texts\n",
    "        cleaned_row = [item.replace('\\n', ' ') if item is not None and '\\n' in item else 'None' if item is None else item for item in row]\n",
    "        # Convert the table into a string \n",
    "        table_string+=('|'+'|'.join(cleaned_row)+'|'+'\\n')\n",
    "    # Removing the last line break\n",
    "    table_string = table_string[:-1]\n",
    "    return table_string"
   ]
  },
  {
   "cell_type": "code",
   "execution_count": 14,
   "metadata": {},
   "outputs": [],
   "source": [
    "# load pdf file and create a pdf object\n",
    "pdf_path = '../data/Example PDF.pdf'\n",
    "pdfFileObj = open(pdf_path, 'rb')\n",
    "\n",
    "# create a pdf reader object\n",
    "pdfReaded = PyPDF2.PdfReader(pdfFileObj)\n",
    "\n",
    "# create dictionary to extract text from each image\n",
    "text_per_page = {}"
   ]
  },
  {
   "cell_type": "code",
   "execution_count": null,
   "metadata": {},
   "outputs": [],
   "source": [
    "# extract pages from the PDF\n",
    "for pagenum, page in enumerate(extract_pages(pdf_path)):\n",
    "    # initialize the variables needed for text extraction from the page\n",
    "    pageObj = pdfReaded.pages[pagenum]\n",
    "    page_text = []\n",
    "    line_format = []\n",
    "    text_from_images = []\n",
    "    text_from_tables = []\n",
    "    page_content = []\n",
    "    \n",
    "    # initialize number of examined tables\n",
    "    table_num = 0\n",
    "    first_element = True\n",
    "    table_extraction_flag = False\n",
    "    \n",
    "    # open the pdf file\n",
    "    pdf = pdfplumber.open(pdf_path)\n",
    "    \n",
    "    # find the examined page\n",
    "    page_tables = pdf.pages[pagenum]\n",
    "    # find number of tables\n",
    "    tables = page_tables.find_tables()\n",
    "    \n",
    "    # find all elements\n",
    "    page_elements = [(element.y1, element) for element in page._objs]\n",
    "    # sort all elments as they appear\n",
    "    page_elements.sort(key=lambda x: x[0], reverse=True)\n",
    "    \n",
    "    # find the elements that composed a page\n",
    "    for i, component in enumerate(page_elements):\n",
    "        # extract the position of top side of element in pdf\n",
    "        pos = component[0]\n",
    "        # extract the element of the page layout\n",
    "        element = component[1]\n",
    "        # check if element is a text element\n",
    "        if isinstance(element, LTTextContainer):\n",
    "            # check if text appeared in table\n",
    "            if table_extraction_flag == False:\n",
    "                # use the function to extract text and format for each text\n",
    "                (line_text, format_per_line) = text_extraction(element)\n",
    "                # append text of each line to the page text\n",
    "                page_text.append(line_text)\n",
    "                # append format of each line to the page format\n",
    "                line_format.append(format_per_line)\n",
    "                page_content.append(line_text)\n",
    "            else:\n",
    "                # omit the text and move on\n",
    "                pass\n",
    "        \n",
    "        # check for image"
   ]
  },
  {
   "cell_type": "code",
   "execution_count": 1,
   "metadata": {},
   "outputs": [
    {
     "ename": "NameError",
     "evalue": "name 'extract_pages' is not defined",
     "output_type": "error",
     "traceback": [
      "\u001b[0;31m---------------------------------------------------------------------------\u001b[0m",
      "\u001b[0;31mNameError\u001b[0m                                 Traceback (most recent call last)",
      "Cell \u001b[0;32mIn[1], line 2\u001b[0m\n\u001b[1;32m      1\u001b[0m \u001b[38;5;66;03m# overall function within which to apply all other functions\u001b[39;00m\n\u001b[0;32m----> 2\u001b[0m \u001b[38;5;28;01mfor\u001b[39;00m pagenum, page \u001b[38;5;129;01min\u001b[39;00m \u001b[38;5;28menumerate\u001b[39m(\u001b[43mextract_pages\u001b[49m(pdf_path)):\n\u001b[1;32m      3\u001b[0m     \u001b[38;5;66;03m# iterate the elements that composed a page\u001b[39;00m\n\u001b[1;32m      4\u001b[0m     \u001b[38;5;28;01mfor\u001b[39;00m element \u001b[38;5;129;01min\u001b[39;00m page:\n\u001b[1;32m      5\u001b[0m         \u001b[38;5;66;03m# check if element is a text element\u001b[39;00m\n\u001b[1;32m      6\u001b[0m         \u001b[38;5;28;01mif\u001b[39;00m \u001b[38;5;28misinstance\u001b[39m(element, LTTextContainer):\n\u001b[1;32m      7\u001b[0m             \u001b[38;5;66;03m# function to extract text from text block\u001b[39;00m\n",
      "\u001b[0;31mNameError\u001b[0m: name 'extract_pages' is not defined"
     ]
    }
   ],
   "source": [
    "# overall function within which to apply all other functions\n",
    "for pagenum, page in enumerate(extract_pages(pdf_path)):\n",
    "    # iterate the elements that composed a page\n",
    "    for element in page:\n",
    "        # check if element is a text element\n",
    "        if isinstance(element, LTTextContainer):\n",
    "            # function to extract text from text block\n",
    "            pass\n",
    "            # function to extract text format\n",
    "            pass\n",
    "        if isinstance(element, LTFigure):\n",
    "            # function to convert PDF to Image\n",
    "            pass\n",
    "            # function to extract text with OCR\n",
    "            pass\n",
    "        # check the elements for tables\n",
    "        if isinstance(element, LTRect):\n",
    "            # function to extract tables\n",
    "            pass\n",
    "            # function to convert table content into a string"
   ]
  },
  {
   "cell_type": "code",
   "execution_count": 18,
   "metadata": {},
   "outputs": [
    {
     "ename": "TypeError",
     "evalue": "'int' object is not subscriptable",
     "output_type": "error",
     "traceback": [
      "\u001b[0;31m---------------------------------------------------------------------------\u001b[0m",
      "\u001b[0;31mTypeError\u001b[0m                                 Traceback (most recent call last)",
      "Cell \u001b[0;32mIn[18], line 2\u001b[0m\n\u001b[1;32m      1\u001b[0m x \u001b[38;5;241m=\u001b[39m [\u001b[38;5;241m4\u001b[39m,\u001b[38;5;241m6\u001b[39m,\u001b[38;5;241m2\u001b[39m,\u001b[38;5;241m4\u001b[39m,\u001b[38;5;241m76\u001b[39m]\n\u001b[0;32m----> 2\u001b[0m y \u001b[38;5;241m=\u001b[39m \u001b[43mx\u001b[49m\u001b[38;5;241;43m.\u001b[39;49m\u001b[43msort\u001b[49m\u001b[43m(\u001b[49m\u001b[43mkey\u001b[49m\u001b[38;5;241;43m=\u001b[39;49m\u001b[38;5;28;43;01mlambda\u001b[39;49;00m\u001b[43m \u001b[49m\u001b[43ma\u001b[49m\u001b[43m:\u001b[49m\u001b[43m \u001b[49m\u001b[43ma\u001b[49m\u001b[43m[\u001b[49m\u001b[38;5;241;43m0\u001b[39;49m\u001b[43m]\u001b[49m\u001b[43m,\u001b[49m\u001b[43m \u001b[49m\u001b[43mreverse\u001b[49m\u001b[38;5;241;43m=\u001b[39;49m\u001b[38;5;28;43;01mTrue\u001b[39;49;00m\u001b[43m)\u001b[49m\n\u001b[1;32m      3\u001b[0m \u001b[38;5;28mprint\u001b[39m(y)\n",
      "Cell \u001b[0;32mIn[18], line 2\u001b[0m, in \u001b[0;36m<lambda>\u001b[0;34m(a)\u001b[0m\n\u001b[1;32m      1\u001b[0m x \u001b[38;5;241m=\u001b[39m [\u001b[38;5;241m4\u001b[39m,\u001b[38;5;241m6\u001b[39m,\u001b[38;5;241m2\u001b[39m,\u001b[38;5;241m4\u001b[39m,\u001b[38;5;241m76\u001b[39m]\n\u001b[0;32m----> 2\u001b[0m y \u001b[38;5;241m=\u001b[39m x\u001b[38;5;241m.\u001b[39msort(key\u001b[38;5;241m=\u001b[39m\u001b[38;5;28;01mlambda\u001b[39;00m a: \u001b[43ma\u001b[49m\u001b[43m[\u001b[49m\u001b[38;5;241;43m0\u001b[39;49m\u001b[43m]\u001b[49m, reverse\u001b[38;5;241m=\u001b[39m\u001b[38;5;28;01mTrue\u001b[39;00m)\n\u001b[1;32m      3\u001b[0m \u001b[38;5;28mprint\u001b[39m(y)\n",
      "\u001b[0;31mTypeError\u001b[0m: 'int' object is not subscriptable"
     ]
    }
   ],
   "source": [
    "x = [4,6,2,4,76]\n",
    "y = x.sort(key=lambda a: a[0], reverse=True)\n",
    "print(y)"
   ]
  },
  {
   "cell_type": "code",
   "execution_count": null,
   "metadata": {},
   "outputs": [],
   "source": []
  }
 ],
 "metadata": {
  "kernelspec": {
   "display_name": "parsepdf",
   "language": "python",
   "name": "python3"
  },
  "language_info": {
   "codemirror_mode": {
    "name": "ipython",
    "version": 3
   },
   "file_extension": ".py",
   "mimetype": "text/x-python",
   "name": "python",
   "nbconvert_exporter": "python",
   "pygments_lexer": "ipython3",
   "version": "3.12.2"
  }
 },
 "nbformat": 4,
 "nbformat_minor": 2
}
