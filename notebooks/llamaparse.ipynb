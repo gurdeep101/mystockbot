{
 "cells": [
  {
   "cell_type": "markdown",
   "metadata": {},
   "source": [
    "https://github.com/run-llama/llama_parse\n",
    "\n",
    "https://cloud.llamaindex.ai/parse"
   ]
  },
  {
   "cell_type": "markdown",
   "metadata": {},
   "source": [
    "#### Stages of RAG and our approach\n",
    "https://docs.llamaindex.ai/en/stable/getting_started/concepts.html\n",
    "\n",
    "* Loading - getting data from where it is currently into our pipeline\n",
    "    * Connectors - aka Readers; used to ingest data from any source and formats into Documents & Nodes - **we're using Llamaparse**\n",
    "    * Documents & Nodes - Documents are a generic container around any data source; Node is a chunk of a source `Document`. **not done separately for us**\n",
    "* Indexing - structured format for easy retrieval; `VectorStoreIndex` does all of the above\n",
    "    * Indexes - Data stored in format easy to retrieve, usually vector embeddings; can be stored in a vector store\n",
    "    * Embeddings - Numerical representations of data; query embeddings are matched using similarity matching. Use embedding models to create this\n",
    "* Querying - Ask questions and get responses -**we use query engine**\n",
    "    * Retrievers - Retrieve relevant context\n",
    "    * Router - Which retriever is used\n",
    "    * Node Postprocessor - Apply transformations, filters and re-ranking logic to retrieved nodes\n",
    "    * Response Synthesiser - Generates response from LLM using query and retrieved chunks"
   ]
  },
  {
   "cell_type": "code",
   "execution_count": 1,
   "metadata": {},
   "outputs": [],
   "source": [
    "import os\n",
    "\n",
    "import nest_asyncio\n",
    "nest_asyncio.apply()\n",
    "\n",
    "from llama_parse import LlamaParse\n",
    "from llama_index.core import SimpleDirectoryReader, VectorStoreIndex"
   ]
  },
  {
   "cell_type": "code",
   "execution_count": 2,
   "metadata": {},
   "outputs": [
    {
     "name": "stdout",
     "output_type": "stream",
     "text": [
      "API key found\n"
     ]
    }
   ],
   "source": [
    "LLAMAPARSE_API_KEY = os.environ.get('LLAMAPARSE_API_KEY')\n",
    "if LLAMAPARSE_API_KEY is not None:\n",
    "    print('API key found')\n",
    "else:\n",
    "    print('Check for API key in environment variable')"
   ]
  },
  {
   "cell_type": "code",
   "execution_count": 3,
   "metadata": {},
   "outputs": [],
   "source": [
    "# instantiate parser\n",
    "parser = LlamaParse(\n",
    "    api_key=LLAMAPARSE_API_KEY,\n",
    "    result_type=\"markdown\", # or text\n",
    "    # num_workers=4 # for multiple files\n",
    "    verbose=True,\n",
    "    language=\"en\", # default is english\n",
    ")"
   ]
  },
  {
   "cell_type": "code",
   "execution_count": 4,
   "metadata": {},
   "outputs": [
    {
     "name": "stdout",
     "output_type": "stream",
     "text": [
      "Started parsing the file under job_id 449fa1cc-a281-47dd-836b-ade1d6736062\n"
     ]
    }
   ],
   "source": [
    "# load document and parse it \n",
    "documents = parser.load_data('../data/1910.13461.pdf')"
   ]
  },
  {
   "cell_type": "code",
   "execution_count": 5,
   "metadata": {},
   "outputs": [
    {
     "name": "stdout",
     "output_type": "stream",
     "text": [
      "Started parsing the file under job_id 97a15eaa-0826-4e06-85b2-07d99a42b453\n"
     ]
    }
   ],
   "source": [
    "# read in and parse pdf file in documents format\n",
    "file_extractor = {\".pdf\": parser}\n",
    "reader = SimpleDirectoryReader(input_files=['../data/1910.13461.pdf'], file_extractor=file_extractor)\n",
    "documents = reader.load_data()"
   ]
  },
  {
   "cell_type": "code",
   "execution_count": 6,
   "metadata": {},
   "outputs": [],
   "source": [
    "# split into nodes and create an index from parsed markdown\n",
    "index = VectorStoreIndex.from_documents(documents)\n",
    "\n",
    "# create query engine\n",
    "query_engine = index.as_query_engine()"
   ]
  },
  {
   "cell_type": "code",
   "execution_count": 7,
   "metadata": {},
   "outputs": [
    {
     "name": "stdout",
     "output_type": "stream",
     "text": [
      "R1 of BART for different datasets are as follows:\n",
      "- ELI5 dataset: 30.6\n",
      "- CNN/DailyMail dataset: 44.16\n",
      "- XSum dataset: 45.14\n"
     ]
    }
   ],
   "source": [
    "query = \"Tell me about R1 of bart for different datasets\"\n",
    "\n",
    "resp = query_engine.query(query)\n",
    "print(resp)"
   ]
  },
  {
   "cell_type": "code",
   "execution_count": 8,
   "metadata": {},
   "outputs": [
    {
     "name": "stdout",
     "output_type": "stream",
     "text": [
      "Summarization, Dialogue response generation, Abstractive QA, Translation\n"
     ]
    }
   ],
   "source": [
    "response = query_engine.query(\"list all the tasks that work with bart\")\n",
    "print(response)"
   ]
  },
  {
   "cell_type": "code",
   "execution_count": 62,
   "metadata": {},
   "outputs": [
    {
     "name": "stdout",
     "output_type": "stream",
     "text": [
      "Started parsing the file under job_id 74d94431-e2f3-4a2e-9c12-b830f0aee605\n"
     ]
    }
   ],
   "source": [
    "# load document and parse it \n",
    "documents = parser.load_data('../data/axis-press-release-q3fy24.pdf')"
   ]
  },
  {
   "cell_type": "code",
   "execution_count": 73,
   "metadata": {},
   "outputs": [],
   "source": [
    "# split into nodes and create an index from parsed markdown\n",
    "index = VectorStoreIndex.from_documents(documents)\n",
    "\n",
    "# create query engine\n",
    "query_engine = index.as_query_engine()"
   ]
  },
  {
   "cell_type": "code",
   "execution_count": 77,
   "metadata": {},
   "outputs": [
    {
     "name": "stdout",
     "output_type": "stream",
     "text": [
      "Amitabh Chaudhry, MD&CEO of Axis Bank, mentioned that India is being looked upon as an important investment destination and that the Indian economic momentum has been strong. He emphasized that Axis Bank's focus is on sustainable and inclusive growth, with the customer being at the center of every discussion. He also mentioned the celebration of 'Sparsh Week', which involved educative customer-centric activities across multiple branches and retail asset centers, reaching out to a large number of employees.\n"
     ]
    }
   ],
   "source": [
    "response = query_engine.query(\"summarize comments made by amitabh chaudhry?\")\n",
    "print(response)"
   ]
  },
  {
   "cell_type": "markdown",
   "metadata": {},
   "source": [
    "https://ai.gopubby.com/llamaparse-rag-beats-all-comers-60948c6cc0e4\n",
    "\n",
    "#### Using MarkdownElementNodeParser"
   ]
  },
  {
   "cell_type": "code",
   "execution_count": 29,
   "metadata": {},
   "outputs": [],
   "source": [
    "import os\n",
    "\n",
    "import nest_asyncio\n",
    "nest_asyncio.apply()\n",
    "\n",
    "from llama_parse import LlamaParse\n",
    "from llama_index.core import SimpleDirectoryReader, Document\n",
    "from llama_index.core.extractors import TitleExtractor\n"
   ]
  },
  {
   "cell_type": "code",
   "execution_count": 4,
   "metadata": {},
   "outputs": [
    {
     "name": "stdout",
     "output_type": "stream",
     "text": [
      "API key found\n"
     ]
    }
   ],
   "source": [
    "LLAMAPARSE_API_KEY = os.environ.get('LLAMAPARSE_API_KEY')\n",
    "if LLAMAPARSE_API_KEY is not None:\n",
    "    print('API key found')\n",
    "else:\n",
    "    print('Check for API key in environment variable')"
   ]
  },
  {
   "cell_type": "code",
   "execution_count": 30,
   "metadata": {},
   "outputs": [],
   "source": [
    "llm = OpenAI(temperature=0.1, model=\"gpt-3.5-turbo\", max_tokens=1024)\n"
   ]
  },
  {
   "cell_type": "code",
   "execution_count": 5,
   "metadata": {},
   "outputs": [],
   "source": [
    "# instantiate parser\n",
    "parser = LlamaParse(\n",
    "    api_key=LLAMAPARSE_API_KEY,\n",
    "    result_type=\"markdown\", # or text\n",
    "    # num_workers=4 # for multiple files\n",
    "    verbose=True,\n",
    "    language=\"en\", # default is english\n",
    ")"
   ]
  },
  {
   "cell_type": "code",
   "execution_count": 6,
   "metadata": {},
   "outputs": [],
   "source": [
    "# load document and parse it \n",
    "# documents = parser.load_data('../data/axis-press-release-q3fy24.pdf')"
   ]
  },
  {
   "cell_type": "code",
   "execution_count": 46,
   "metadata": {},
   "outputs": [
    {
     "name": "stdout",
     "output_type": "stream",
     "text": [
      "Started parsing the file under job_id dcbe4c35-82d4-4fca-94e0-1b80d17fea3d\n"
     ]
    }
   ],
   "source": [
    "file_extractor = {\".pdf\": parser}\n",
    "filename_fn = lambda filename: {\"file_name\": filename}\n",
    "# filename_fn = 'axis bank earnings press release for Quarter ended Dec 2023'\n",
    "reader = SimpleDirectoryReader(\n",
    "    input_files=['../data/axis-press-release-q3fy24.pdf'], \n",
    "    file_extractor=file_extractor,\n",
    "    filename_as_id=True, # to refresh documents in the index\n",
    "    file_metadata = filename_fn,\n",
    "    )\n",
    "documents = reader.load_data()"
   ]
  },
  {
   "cell_type": "code",
   "execution_count": 48,
   "metadata": {},
   "outputs": [
    {
     "data": {
      "text/plain": [
       "llama_index.core.schema.Document"
      ]
     },
     "execution_count": 48,
     "metadata": {},
     "output_type": "execute_result"
    }
   ],
   "source": [
    "type(documents[0])"
   ]
  },
  {
   "cell_type": "code",
   "execution_count": 42,
   "metadata": {},
   "outputs": [],
   "source": [
    "# document = Document(\n",
    "#     documents,\n",
    "#     metadata={\"filename\": \"axis-press-release-q3fy24\",\n",
    "#               \"category\":\"press release\",\n",
    "#               \"quarter\":\"q3\",\n",
    "#               \"financial_year\":\"fy24\",\n",
    "#               },\n",
    "# )"
   ]
  },
  {
   "cell_type": "code",
   "execution_count": 8,
   "metadata": {},
   "outputs": [],
   "source": [
    "from llama_index.llms.openai import OpenAI\n",
    "from llama_index.core import VectorStoreIndex\n",
    "from llama_index.core.node_parser import MarkdownElementNodeParser, TokenTextSplitter"
   ]
  },
  {
   "cell_type": "code",
   "execution_count": 18,
   "metadata": {},
   "outputs": [
    {
     "name": "stdout",
     "output_type": "stream",
     "text": [
      "Embeddings have been explicitly disabled. Using MockEmbedding.\n"
     ]
    },
    {
     "name": "stderr",
     "output_type": "stream",
     "text": [
      "7it [00:00, 5359.64it/s]\n",
      "100%|██████████| 7/7 [00:07<00:00,  1.13s/it]\n"
     ]
    }
   ],
   "source": [
    "node_parser = MarkdownElementNodeParser(llm=llm, include_metadata=True)\n",
    "nodes=node_parser.get_nodes_from_documents(documents)"
   ]
  },
  {
   "cell_type": "code",
   "execution_count": 19,
   "metadata": {},
   "outputs": [],
   "source": [
    "base_nodes, objects = node_parser.get_nodes_and_objects(nodes)"
   ]
  },
  {
   "cell_type": "code",
   "execution_count": 56,
   "metadata": {},
   "outputs": [
    {
     "name": "stderr",
     "output_type": "stream",
     "text": [
      "Parsing nodes:   0%|          | 0/1 [00:00<?, ?it/s]"
     ]
    },
    {
     "name": "stdout",
     "output_type": "stream",
     "text": [
      "Embeddings have been explicitly disabled. Using MockEmbedding.\n"
     ]
    },
    {
     "name": "stderr",
     "output_type": "stream",
     "text": [
      "7it [00:00, 1557.24it/s]\n",
      "100%|██████████| 7/7 [00:05<00:00,  1.18it/s]\n",
      "Parsing nodes: 100%|██████████| 1/1 [00:06<00:00,  6.14s/it]\n",
      "100%|██████████| 1/1 [00:01<00:00,  1.06s/it]\n",
      "100%|██████████| 5/5 [00:01<00:00,  3.02it/s]\n",
      "100%|██████████| 2/2 [00:01<00:00,  1.63it/s]\n",
      "100%|██████████| 4/4 [00:01<00:00,  3.49it/s]\n",
      "100%|██████████| 1/1 [00:00<00:00,  1.41it/s]\n",
      "100%|██████████| 1/1 [00:00<00:00,  1.55it/s]\n",
      "100%|██████████| 1/1 [00:00<00:00,  1.15it/s]\n",
      "100%|██████████| 1/1 [00:00<00:00,  1.48it/s]\n"
     ]
    }
   ],
   "source": [
    "node_parser = MarkdownElementNodeParser(llm=llm, include_metadata=True)\n",
    "title_extractor = TitleExtractor(nodes=5)\n",
    "\n",
    "from llama_index.core.ingestion import IngestionPipeline\n",
    "\n",
    "pipeline = IngestionPipeline(\n",
    "    transformations = [\n",
    "        nodes=node_parser.get_nodes_from_documents(documents),\n",
    "        title_extractor]\n",
    ")\n",
    "\n",
    "nodes = pipeline.run(\n",
    "    documents=documents,\n",
    "    in_place=True,\n",
    "    show_progress=True,\n",
    ")"
   ]
  },
  {
   "cell_type": "code",
   "execution_count": 59,
   "metadata": {},
   "outputs": [
    {
     "data": {
      "text/plain": [
       "TextNode(id_='68b864cd-28ef-472a-84af-a381d11b85df', embedding=None, metadata={'file_name': '../data/axis-press-release-q3fy24.pdf', 'file_path': '../data/axis-press-release-q3fy24.pdf', 'document_title': 'AXIS BANK Q3 FY23 FINANCIAL RESULTS ANNOUNCEMENT AND ANALYSIS'}, excluded_embed_metadata_keys=[], excluded_llm_metadata_keys=[], relationships={<NodeRelationship.SOURCE: '1'>: RelatedNodeInfo(node_id='a35c16de-d41a-4772-b261-68011f55cce2', node_type=<ObjectType.DOCUMENT: '4'>, metadata={}, hash='d7793806f4c6e8565256d5287a2ce6af74cc609ed03e51951736ee3e9b859ff3'), <NodeRelationship.NEXT: '3'>: RelatedNodeInfo(node_id='id_../data/axis-press-release-q3fy24.pdf_part_0_4_table_ref', node_type=<ObjectType.INDEX: '3'>, metadata={'col_schema': 'Column: Q3FY24\\nType: Operating profit, PAT, Consolidated ROE\\nSummary: None\\n\\nColumn: 9MFY24\\nType: PAT, Consolidated ROE\\nSummary: None', 'file_name': '../data/axis-press-release-q3fy24.pdf', 'file_path': '../data/axis-press-release-q3fy24.pdf'}, hash='ec31ec571a022fac7522aab85e21265d8ae6d1da885287cedf93b881c5bbc331')}, text='AXIS BANK\\n\\n PRESS RELEASE\\n\\nAXIS BANK ANNOUNCES FINANCIAL RESULTS FOR THE QUARTER AND NINE MONTHS ENDED 31st DECEMBER 2023', start_char_idx=1, end_char_idx=122, text_template='[Excerpt from document]\\n{metadata_str}\\nExcerpt:\\n-----\\n{content}\\n-----\\n', metadata_template='{key}: {value}', metadata_seperator='\\n')"
      ]
     },
     "execution_count": 59,
     "metadata": {},
     "output_type": "execute_result"
    }
   ],
   "source": [
    "nodes[0]"
   ]
  },
  {
   "cell_type": "code",
   "execution_count": 53,
   "metadata": {},
   "outputs": [
    {
     "data": {
      "text/plain": [
       "{'file_name': '../data/axis-press-release-q3fy24.pdf',\n",
       " 'file_path': '../data/axis-press-release-q3fy24.pdf'}"
      ]
     },
     "execution_count": 53,
     "metadata": {},
     "output_type": "execute_result"
    }
   ],
   "source": [
    "base_nodes[1].metadata"
   ]
  },
  {
   "cell_type": "code",
   "execution_count": 25,
   "metadata": {},
   "outputs": [
    {
     "data": {
      "text/plain": [
       "{'col_schema': '',\n",
       " 'file_name': '../data/axis-press-release-q3fy24.pdf',\n",
       " 'file_path': '../data/axis-press-release-q3fy24.pdf'}"
      ]
     },
     "execution_count": 25,
     "metadata": {},
     "output_type": "execute_result"
    }
   ],
   "source": [
    "objects[1].metadata"
   ]
  },
  {
   "cell_type": "code",
   "execution_count": null,
   "metadata": {},
   "outputs": [],
   "source": []
  },
  {
   "cell_type": "code",
   "execution_count": null,
   "metadata": {},
   "outputs": [],
   "source": []
  },
  {
   "cell_type": "code",
   "execution_count": null,
   "metadata": {},
   "outputs": [],
   "source": []
  },
  {
   "cell_type": "code",
   "execution_count": null,
   "metadata": {},
   "outputs": [],
   "source": [
    "# split into nodes and create an index from parsed markdown\n",
    "index = VectorStoreIndex(nodes=base_nodes+objects)\n",
    "\n",
    "# create query engine\n",
    "query_engine = index.as_query_engine()"
   ]
  },
  {
   "cell_type": "code",
   "execution_count": null,
   "metadata": {},
   "outputs": [
    {
     "name": "stdout",
     "output_type": "stream",
     "text": [
      "1.84%\n"
     ]
    }
   ],
   "source": [
    "query = \"what is axis bank's RoA\"\n",
    "\n",
    "resp = query_engine.query(query)\n",
    "print(resp)"
   ]
  }
 ],
 "metadata": {
  "kernelspec": {
   "display_name": "llama",
   "language": "python",
   "name": "python3"
  },
  "language_info": {
   "codemirror_mode": {
    "name": "ipython",
    "version": 3
   },
   "file_extension": ".py",
   "mimetype": "text/x-python",
   "name": "python",
   "nbconvert_exporter": "python",
   "pygments_lexer": "ipython3",
   "version": "3.12.2"
  }
 },
 "nbformat": 4,
 "nbformat_minor": 2
}
